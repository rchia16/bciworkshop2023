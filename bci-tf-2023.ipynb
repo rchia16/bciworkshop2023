{
  "cells": [
    {
      "cell_type": "markdown",
      "metadata": {
        "id": "fd4Q-9BRo_Wx"
      },
      "source": [
        "## **Workshop on how to Bridge the gap between Neuroscience & Computational Intelligence for BCI**\n",
        "## See more detail about workshop here: https://thinknew.github.io/BCIWorkshop/\n",
        "This notebook aims to demonstrate and teach the following content:\n",
        "\n"
      ]
    },
    {
      "cell_type": "markdown",
      "metadata": {
        "id": "sI3B45_obJdt"
      },
      "source": []
    },
    {
      "cell_type": "markdown",
      "metadata": {
        "id": "e0NnWLMu6H9o"
      },
      "source": [
        "# Setting Up the Environment"
      ]
    },
    {
      "cell_type": "markdown",
      "metadata": {
        "id": "fKG1xTbJpOsJ"
      },
      "source": [
        "The prerequisite packages to this tutorial are:\n",
        "\n",
        "\n",
        "*   [**MNE**](https://mne.tools/stable/install/mne_python.html#installing-mne-python-and-its-dependencies): EEG Data Package\n",
        "*   [**NumPy**](https://www.scipy.org/install.html): Numerical Computing (SciPy Download Page)\n",
        "*   [**SciPy**](https://www.scipy.org/install.html): Scientific Computing\n",
        "*   [**MatPlotLib**](https://matplotlib.org/users/installing.html): General Purpose Machine Learning Library\n",
        "*   [**Scikit-Learn**](https://scikit-learn.org/stable/install.html): General Purpose Machine Learning Library\n",
        "*   [**Tensorflow 2.0**](https://www.tensorflow.org/guide/effective_tf2/): Deep Learning Library from Google Brain\n",
        "\n",
        "All packages but MNE are available through Google Colab and thus we only need to install MNE."
      ]
    },
    {
      "cell_type": "code",
      "execution_count": null,
      "metadata": {
        "id": "ZjOrnvd0mu59"
      },
      "outputs": [],
      "source": [
        "a = 5"
      ]
    },
    {
      "cell_type": "code",
      "execution_count": null,
      "metadata": {
        "colab": {
          "base_uri": "https://localhost:8080/"
        },
        "id": "kexrc29EpW4h",
        "outputId": "d5bfa9d6-fe63-4c1d-de25-8ff5f6d0be46"
      },
      "outputs": [
        {
          "name": "stdout",
          "output_type": "stream",
          "text": [
            "Looking in indexes: https://pypi.org/simple, https://us-python.pkg.dev/colab-wheels/public/simple/\n",
            "Collecting mne\n",
            "  Downloading mne-1.4.2-py3-none-any.whl (7.7 MB)\n",
            "\u001b[2K     \u001b[90m━━━━━━━━━━━━━━━━━━━━━━━━━━━━━━━━━━━━━━━━\u001b[0m \u001b[32m7.7/7.7 MB\u001b[0m \u001b[31m75.8 MB/s\u001b[0m eta \u001b[36m0:00:00\u001b[0m\n",
            "\u001b[?25hRequirement already satisfied: numpy>=1.15.4 in /usr/local/lib/python3.10/dist-packages (from mne) (1.22.4)\n",
            "Requirement already satisfied: scipy>=1.6.3 in /usr/local/lib/python3.10/dist-packages (from mne) (1.10.1)\n",
            "Requirement already satisfied: matplotlib>=3.4.0 in /usr/local/lib/python3.10/dist-packages (from mne) (3.7.1)\n",
            "Requirement already satisfied: tqdm in /usr/local/lib/python3.10/dist-packages (from mne) (4.65.0)\n",
            "Requirement already satisfied: pooch>=1.5 in /usr/local/lib/python3.10/dist-packages (from mne) (1.6.0)\n",
            "Requirement already satisfied: decorator in /usr/local/lib/python3.10/dist-packages (from mne) (4.4.2)\n",
            "Requirement already satisfied: packaging in /usr/local/lib/python3.10/dist-packages (from mne) (23.1)\n",
            "Requirement already satisfied: jinja2 in /usr/local/lib/python3.10/dist-packages (from mne) (3.1.2)\n",
            "Requirement already satisfied: contourpy>=1.0.1 in /usr/local/lib/python3.10/dist-packages (from matplotlib>=3.4.0->mne) (1.0.7)\n",
            "Requirement already satisfied: cycler>=0.10 in /usr/local/lib/python3.10/dist-packages (from matplotlib>=3.4.0->mne) (0.11.0)\n",
            "Requirement already satisfied: fonttools>=4.22.0 in /usr/local/lib/python3.10/dist-packages (from matplotlib>=3.4.0->mne) (4.39.3)\n",
            "Requirement already satisfied: kiwisolver>=1.0.1 in /usr/local/lib/python3.10/dist-packages (from matplotlib>=3.4.0->mne) (1.4.4)\n",
            "Requirement already satisfied: pillow>=6.2.0 in /usr/local/lib/python3.10/dist-packages (from matplotlib>=3.4.0->mne) (8.4.0)\n",
            "Requirement already satisfied: pyparsing>=2.3.1 in /usr/local/lib/python3.10/dist-packages (from matplotlib>=3.4.0->mne) (3.0.9)\n",
            "Requirement already satisfied: python-dateutil>=2.7 in /usr/local/lib/python3.10/dist-packages (from matplotlib>=3.4.0->mne) (2.8.2)\n",
            "Requirement already satisfied: appdirs>=1.3.0 in /usr/local/lib/python3.10/dist-packages (from pooch>=1.5->mne) (1.4.4)\n",
            "Requirement already satisfied: requests>=2.19.0 in /usr/local/lib/python3.10/dist-packages (from pooch>=1.5->mne) (2.27.1)\n",
            "Requirement already satisfied: MarkupSafe>=2.0 in /usr/local/lib/python3.10/dist-packages (from jinja2->mne) (2.1.2)\n",
            "Requirement already satisfied: six>=1.5 in /usr/local/lib/python3.10/dist-packages (from python-dateutil>=2.7->matplotlib>=3.4.0->mne) (1.16.0)\n",
            "Requirement already satisfied: urllib3<1.27,>=1.21.1 in /usr/local/lib/python3.10/dist-packages (from requests>=2.19.0->pooch>=1.5->mne) (1.26.15)\n",
            "Requirement already satisfied: certifi>=2017.4.17 in /usr/local/lib/python3.10/dist-packages (from requests>=2.19.0->pooch>=1.5->mne) (2022.12.7)\n",
            "Requirement already satisfied: charset-normalizer~=2.0.0 in /usr/local/lib/python3.10/dist-packages (from requests>=2.19.0->pooch>=1.5->mne) (2.0.12)\n",
            "Requirement already satisfied: idna<4,>=2.5 in /usr/local/lib/python3.10/dist-packages (from requests>=2.19.0->pooch>=1.5->mne) (3.4)\n",
            "Installing collected packages: mne\n",
            "Successfully installed mne-1.4.2\n",
            "Looking in indexes: https://pypi.org/simple, https://us-python.pkg.dev/colab-wheels/public/simple/\n",
            "Collecting tensorboardX\n",
            "  Downloading tensorboardX-2.6.1-py2.py3-none-any.whl (101 kB)\n",
            "\u001b[2K     \u001b[90m━━━━━━━━━━━━━━━━━━━━━━━━━━━━━━━━━━━━━━━\u001b[0m \u001b[32m101.6/101.6 kB\u001b[0m \u001b[31m7.8 MB/s\u001b[0m eta \u001b[36m0:00:00\u001b[0m\n",
            "\u001b[?25hRequirement already satisfied: numpy in /usr/local/lib/python3.10/dist-packages (from tensorboardX) (1.22.4)\n",
            "Requirement already satisfied: packaging in /usr/local/lib/python3.10/dist-packages (from tensorboardX) (23.1)\n",
            "Collecting protobuf>=4.22.3 (from tensorboardX)\n",
            "  Downloading protobuf-4.23.3-cp37-abi3-manylinux2014_x86_64.whl (304 kB)\n",
            "\u001b[2K     \u001b[90m━━━━━━━━━━━━━━━━━━━━━━━━━━━━━━━━━━━━━━\u001b[0m \u001b[32m304.5/304.5 kB\u001b[0m \u001b[31m23.1 MB/s\u001b[0m eta \u001b[36m0:00:00\u001b[0m\n",
            "\u001b[?25hInstalling collected packages: protobuf, tensorboardX\n",
            "  Attempting uninstall: protobuf\n",
            "    Found existing installation: protobuf 3.20.3\n",
            "    Uninstalling protobuf-3.20.3:\n",
            "      Successfully uninstalled protobuf-3.20.3\n",
            "Successfully installed protobuf-4.23.3 tensorboardX-2.6.1\n",
            "Looking in indexes: https://pypi.org/simple, https://us-python.pkg.dev/colab-wheels/public/simple/\n",
            "Collecting einops\n",
            "  Downloading einops-0.6.1-py3-none-any.whl (42 kB)\n",
            "\u001b[2K     \u001b[90m━━━━━━━━━━━━━━━━━━━━━━━━━━━━━━━━━━━━━━━━\u001b[0m \u001b[32m42.2/42.2 kB\u001b[0m \u001b[31m3.3 MB/s\u001b[0m eta \u001b[36m0:00:00\u001b[0m\n",
            "\u001b[?25hInstalling collected packages: einops\n",
            "Successfully installed einops-0.6.1\n"
          ]
        }
      ],
      "source": [
        "# Run these from the console if following along locally\n",
        "!pip install mne\n",
        "!pip install tensorboardX\n",
        "!pip install einops"
      ]
    },
    {
      "cell_type": "markdown",
      "metadata": {
        "id": "kDOyVajGpe16"
      },
      "source": [
        "For the purposes of this workshop, we will be turning off warnings."
      ]
    },
    {
      "cell_type": "code",
      "execution_count": null,
      "metadata": {
        "id": "4hwinWF8phEz"
      },
      "outputs": [],
      "source": [
        "# You'll want to comment this out if you plan on modifying this code, to get valuable feedback\n",
        "import warnings\n",
        "warnings.filterwarnings('ignore')"
      ]
    },
    {
      "cell_type": "markdown",
      "metadata": {
        "id": "9gw-oUX9pm1D"
      },
      "source": [
        "Import all of our required modules. This includes various submodules that we'll need including the RobustScaler object from scikit."
      ]
    },
    {
      "cell_type": "code",
      "execution_count": null,
      "metadata": {
        "id": "KXBBdX-Mot9N"
      },
      "outputs": [],
      "source": [
        "from collections import OrderedDict\n",
        "from pylab import rcParams\n",
        "import tensorflow as tf\n",
        "from tensorflow import keras\n",
        "from tensorflow.keras import layers\n",
        "import matplotlib.pyplot as plt\n",
        "import matplotlib as mpl\n",
        "from matplotlib.cm import get_cmap\n",
        "import numpy as np\n",
        "import mne\n",
        "from scipy.io import loadmat\n",
        "import sklearn\n",
        "from sklearn.preprocessing import RobustScaler\n",
        "from sklearn.preprocessing import MinMaxScaler\n",
        "import h5py\n",
        "import json\n",
        "\n",
        "from einops import rearrange\n",
        "\n",
        "from google.colab import drive, files"
      ]
    },
    {
      "cell_type": "markdown",
      "metadata": {
        "id": "97yl86kf6xdv"
      },
      "source": [
        "## Reproducibility Matters"
      ]
    },
    {
      "cell_type": "code",
      "execution_count": null,
      "metadata": {
        "id": "QWUujYPKrCrP"
      },
      "outputs": [],
      "source": [
        "# Set seed to reproduce behaviour\n",
        "tf.random.set_seed(100)"
      ]
    },
    {
      "cell_type": "markdown",
      "metadata": {
        "id": "HV2Z8Olztskd"
      },
      "source": [
        "# Data Analysis"
      ]
    },
    {
      "cell_type": "markdown",
      "metadata": {
        "id": "0hOpX20IukZA"
      },
      "source": [
        "## Load the EEG data\n",
        "Here we will load both the raw and preprocessed data."
      ]
    },
    {
      "cell_type": "code",
      "execution_count": null,
      "metadata": {
        "colab": {
          "background_save": true,
          "base_uri": "https://localhost:8080/",
          "height": 38
        },
        "id": "ps2BMs05tkSv",
        "outputId": "b116f1ca-9d37-4a13-f0ea-b5f1908b78d7"
      },
      "outputs": [
        {
          "data": {
            "text/html": [
              "\n",
              "     <input type=\"file\" id=\"files-48b55704-7e21-4cf4-9aa0-a8fa31d273ed\" name=\"files[]\" multiple disabled\n",
              "        style=\"border:none\" />\n",
              "     <output id=\"result-48b55704-7e21-4cf4-9aa0-a8fa31d273ed\">\n",
              "      Upload widget is only available when the cell has been executed in the\n",
              "      current browser session. Please rerun this cell to enable.\n",
              "      </output>\n",
              "      <script>// Copyright 2017 Google LLC\n",
              "//\n",
              "// Licensed under the Apache License, Version 2.0 (the \"License\");\n",
              "// you may not use this file except in compliance with the License.\n",
              "// You may obtain a copy of the License at\n",
              "//\n",
              "//      http://www.apache.org/licenses/LICENSE-2.0\n",
              "//\n",
              "// Unless required by applicable law or agreed to in writing, software\n",
              "// distributed under the License is distributed on an \"AS IS\" BASIS,\n",
              "// WITHOUT WARRANTIES OR CONDITIONS OF ANY KIND, either express or implied.\n",
              "// See the License for the specific language governing permissions and\n",
              "// limitations under the License.\n",
              "\n",
              "/**\n",
              " * @fileoverview Helpers for google.colab Python module.\n",
              " */\n",
              "(function(scope) {\n",
              "function span(text, styleAttributes = {}) {\n",
              "  const element = document.createElement('span');\n",
              "  element.textContent = text;\n",
              "  for (const key of Object.keys(styleAttributes)) {\n",
              "    element.style[key] = styleAttributes[key];\n",
              "  }\n",
              "  return element;\n",
              "}\n",
              "\n",
              "// Max number of bytes which will be uploaded at a time.\n",
              "const MAX_PAYLOAD_SIZE = 100 * 1024;\n",
              "\n",
              "function _uploadFiles(inputId, outputId) {\n",
              "  const steps = uploadFilesStep(inputId, outputId);\n",
              "  const outputElement = document.getElementById(outputId);\n",
              "  // Cache steps on the outputElement to make it available for the next call\n",
              "  // to uploadFilesContinue from Python.\n",
              "  outputElement.steps = steps;\n",
              "\n",
              "  return _uploadFilesContinue(outputId);\n",
              "}\n",
              "\n",
              "// This is roughly an async generator (not supported in the browser yet),\n",
              "// where there are multiple asynchronous steps and the Python side is going\n",
              "// to poll for completion of each step.\n",
              "// This uses a Promise to block the python side on completion of each step,\n",
              "// then passes the result of the previous step as the input to the next step.\n",
              "function _uploadFilesContinue(outputId) {\n",
              "  const outputElement = document.getElementById(outputId);\n",
              "  const steps = outputElement.steps;\n",
              "\n",
              "  const next = steps.next(outputElement.lastPromiseValue);\n",
              "  return Promise.resolve(next.value.promise).then((value) => {\n",
              "    // Cache the last promise value to make it available to the next\n",
              "    // step of the generator.\n",
              "    outputElement.lastPromiseValue = value;\n",
              "    return next.value.response;\n",
              "  });\n",
              "}\n",
              "\n",
              "/**\n",
              " * Generator function which is called between each async step of the upload\n",
              " * process.\n",
              " * @param {string} inputId Element ID of the input file picker element.\n",
              " * @param {string} outputId Element ID of the output display.\n",
              " * @return {!Iterable<!Object>} Iterable of next steps.\n",
              " */\n",
              "function* uploadFilesStep(inputId, outputId) {\n",
              "  const inputElement = document.getElementById(inputId);\n",
              "  inputElement.disabled = false;\n",
              "\n",
              "  const outputElement = document.getElementById(outputId);\n",
              "  outputElement.innerHTML = '';\n",
              "\n",
              "  const pickedPromise = new Promise((resolve) => {\n",
              "    inputElement.addEventListener('change', (e) => {\n",
              "      resolve(e.target.files);\n",
              "    });\n",
              "  });\n",
              "\n",
              "  const cancel = document.createElement('button');\n",
              "  inputElement.parentElement.appendChild(cancel);\n",
              "  cancel.textContent = 'Cancel upload';\n",
              "  const cancelPromise = new Promise((resolve) => {\n",
              "    cancel.onclick = () => {\n",
              "      resolve(null);\n",
              "    };\n",
              "  });\n",
              "\n",
              "  // Wait for the user to pick the files.\n",
              "  const files = yield {\n",
              "    promise: Promise.race([pickedPromise, cancelPromise]),\n",
              "    response: {\n",
              "      action: 'starting',\n",
              "    }\n",
              "  };\n",
              "\n",
              "  cancel.remove();\n",
              "\n",
              "  // Disable the input element since further picks are not allowed.\n",
              "  inputElement.disabled = true;\n",
              "\n",
              "  if (!files) {\n",
              "    return {\n",
              "      response: {\n",
              "        action: 'complete',\n",
              "      }\n",
              "    };\n",
              "  }\n",
              "\n",
              "  for (const file of files) {\n",
              "    const li = document.createElement('li');\n",
              "    li.append(span(file.name, {fontWeight: 'bold'}));\n",
              "    li.append(span(\n",
              "        `(${file.type || 'n/a'}) - ${file.size} bytes, ` +\n",
              "        `last modified: ${\n",
              "            file.lastModifiedDate ? file.lastModifiedDate.toLocaleDateString() :\n",
              "                                    'n/a'} - `));\n",
              "    const percent = span('0% done');\n",
              "    li.appendChild(percent);\n",
              "\n",
              "    outputElement.appendChild(li);\n",
              "\n",
              "    const fileDataPromise = new Promise((resolve) => {\n",
              "      const reader = new FileReader();\n",
              "      reader.onload = (e) => {\n",
              "        resolve(e.target.result);\n",
              "      };\n",
              "      reader.readAsArrayBuffer(file);\n",
              "    });\n",
              "    // Wait for the data to be ready.\n",
              "    let fileData = yield {\n",
              "      promise: fileDataPromise,\n",
              "      response: {\n",
              "        action: 'continue',\n",
              "      }\n",
              "    };\n",
              "\n",
              "    // Use a chunked sending to avoid message size limits. See b/62115660.\n",
              "    let position = 0;\n",
              "    do {\n",
              "      const length = Math.min(fileData.byteLength - position, MAX_PAYLOAD_SIZE);\n",
              "      const chunk = new Uint8Array(fileData, position, length);\n",
              "      position += length;\n",
              "\n",
              "      const base64 = btoa(String.fromCharCode.apply(null, chunk));\n",
              "      yield {\n",
              "        response: {\n",
              "          action: 'append',\n",
              "          file: file.name,\n",
              "          data: base64,\n",
              "        },\n",
              "      };\n",
              "\n",
              "      let percentDone = fileData.byteLength === 0 ?\n",
              "          100 :\n",
              "          Math.round((position / fileData.byteLength) * 100);\n",
              "      percent.textContent = `${percentDone}% done`;\n",
              "\n",
              "    } while (position < fileData.byteLength);\n",
              "  }\n",
              "\n",
              "  // All done.\n",
              "  yield {\n",
              "    response: {\n",
              "      action: 'complete',\n",
              "    }\n",
              "  };\n",
              "}\n",
              "\n",
              "scope.google = scope.google || {};\n",
              "scope.google.colab = scope.google.colab || {};\n",
              "scope.google.colab._files = {\n",
              "  _uploadFiles,\n",
              "  _uploadFilesContinue,\n",
              "};\n",
              "})(self);\n",
              "</script> "
            ],
            "text/plain": [
              "<IPython.core.display.HTML object>"
            ]
          },
          "metadata": {},
          "output_type": "display_data"
        }
      ],
      "source": [
        "uploaded = files.upload()\n",
        "\n",
        "for fn in uploaded.keys():\n",
        "  print('User uploaded file \"{name}\" with length {length} bytes'.format(\n",
        "      name=fn, length=len(uploaded[fn])))"
      ]
    },
    {
      "cell_type": "code",
      "execution_count": null,
      "metadata": {
        "id": "QPAAAGmtRmL8"
      },
      "outputs": [],
      "source": [
        "# Define the names of our files\n",
        "# TODO: Are we using json? .mat?\n",
        "raw_file = './OutputDataAppJson.json'\n",
        "processed_file = './OutputDataAppJson.json'"
      ]
    },
    {
      "cell_type": "markdown",
      "metadata": {
        "id": "2XXExA_3vEeZ"
      },
      "source": [
        "Extract our raw data. Plot the data to verify that it was loaded correctly."
      ]
    },
    {
      "cell_type": "code",
      "execution_count": null,
      "metadata": {
        "id": "hl2I2i0Fu1lq"
      },
      "outputs": [],
      "source": [
        "with open(raw_file, 'r') as f:\n",
        "  raw_p300_json = json.load(f)\n",
        "# P300_file = loadmat(raw_file)\n",
        "print(list(raw_p300_json.keys()))\n",
        "#raw_p300_json['Data']"
      ]
    },
    {
      "cell_type": "code",
      "execution_count": null,
      "metadata": {
        "id": "TDCAWzPFuKx1"
      },
      "outputs": [],
      "source": [
        "# TODO: Not sure how to make this nice\n",
        "channels = raw_p300_json['ChannelLabels']\n",
        "raw_data = np.array(raw_p300_json['Data'][:4])\n",
        "# plot\n",
        "rcParams['figure.figsize'] = 15, 7\n",
        "scaler = 3e-5\n",
        "c, x, y = raw_data.shape\n",
        "a = raw_data.reshape((x, c, y))\n",
        "x = np.arange(x)\n",
        "c_color = ['tab:blue', 'tab:red', 'tab:green', 'tab:orange']\n",
        "for i, c_data in enumerate(raw_data):\n",
        "  plt.subplot(c//2,2,i+1)\n",
        "  plt.title(channels[i])\n",
        "  for j, data in enumerate(c_data.T):\n",
        "    data += j*scaler\n",
        "    plt.plot(data, color=c_color[i])"
      ]
    },
    {
      "cell_type": "markdown",
      "metadata": {
        "id": "zkqtg2e9RLAF"
      },
      "source": [
        "Extract our processed data. Again, plot the data to verify that it was loaded correctly."
      ]
    },
    {
      "cell_type": "code",
      "execution_count": null,
      "metadata": {
        "id": "OF_5M6DkRYtj"
      },
      "outputs": [],
      "source": [
        "with open(processed_file, 'r') as f:\n",
        "  proc_json = json.load(f)\n",
        "# P300_file = loadmat(processed_file)\n",
        "processed_file\n",
        "proc_json.keys()"
      ]
    },
    {
      "cell_type": "code",
      "execution_count": null,
      "metadata": {
        "id": "f1FJwpCFET67"
      },
      "outputs": [],
      "source": [
        "with open('fakedata.mat', 'rb') as f:\n",
        "  fakedata = loadmat(f)\n",
        "print(fakedata.keys())\n",
        "\n",
        "with open('Allen_WithScenario_P300_2.mat', 'rb') as f:\n",
        "  scenario = loadmat(f)\n",
        "print(scenario.keys())"
      ]
    },
    {
      "cell_type": "code",
      "execution_count": null,
      "metadata": {
        "id": "9lbKpJE_KMDM"
      },
      "outputs": [],
      "source": [
        "dset_choice = 'scenario'\n",
        "if dset_choice == 'fakedata':\n",
        "  selected_data = fakedata\n",
        "else:\n",
        "  selected_data = scenario"
      ]
    },
    {
      "cell_type": "code",
      "execution_count": null,
      "metadata": {
        "id": "iMPxNpHFHj3q"
      },
      "outputs": [],
      "source": [
        "try:\n",
        "  data = selected_data['data']\n",
        "  labels = selected_data['labels']\n",
        "except:\n",
        "  data = selected_data['exportdata']\n",
        "  labels = selected_data['exportlabel']"
      ]
    },
    {
      "cell_type": "code",
      "execution_count": null,
      "metadata": {
        "id": "ZqPGTvbwHoM7"
      },
      "outputs": [],
      "source": [
        "data.shape"
      ]
    },
    {
      "cell_type": "markdown",
      "metadata": {
        "id": "dCD2QVd73xt7"
      },
      "source": [
        "Set the plotting parameters \"scale, num channels\""
      ]
    },
    {
      "cell_type": "code",
      "execution_count": null,
      "metadata": {
        "id": "nWnDe1qqRVma"
      },
      "outputs": [],
      "source": [
        "# plot\n",
        "#channels = proc_json['ChannelLabels']\n",
        "#proc_data = np.array(proc_json['Data'])\n",
        "proc_data = np.array(data)\n",
        "fs = proc_json['srate']\n",
        "# plot\n",
        "rcParams['figure.figsize'] = 15, 7\n",
        "scaler = 0.0001\n",
        "c, x, y = proc_data.shape\n",
        "a = proc_data.reshape((x, c, y))\n",
        "x = np.arange(x)\n",
        "c_color = get_cmap('tab10').colors\n",
        "\n",
        "n_cols = 2\n",
        "# n_rows = np.ceil(c/n_cols).astype(int)\n",
        "n_rows = 2\n",
        "fig, ax = plt.subplots(n_rows, n_cols, sharex=True)\n",
        "ax = ax.flatten()\n",
        "\n",
        "# lets print only the first 4 channels and 10 epochs\n",
        "for i, c_data in enumerate(proc_data[:4]):\n",
        "  ax[i].set_title(channels[i])\n",
        "  for j, plot_data in enumerate(c_data.T):\n",
        "    plot_data += j*scaler\n",
        "    ax[i].plot(plot_data, color=c_color[i])\n",
        "    if j > 9: break"
      ]
    },
    {
      "cell_type": "markdown",
      "metadata": {
        "id": "cjq3Gnb-u1Jb"
      },
      "source": [
        "We need to scale and split our data to feed into our model for training."
      ]
    },
    {
      "cell_type": "code",
      "execution_count": null,
      "metadata": {
        "id": "hlWbUhYS4y9K"
      },
      "outputs": [],
      "source": [
        "P300_data = proc_data\n",
        "# select the 5-th channel as the training data\n",
        "# P300_data_c = P300_data[3, :]\n",
        "P300_data_c = P300_data\n"
      ]
    },
    {
      "cell_type": "code",
      "execution_count": null,
      "metadata": {
        "id": "6l3Y1Xifu8bd"
      },
      "outputs": [],
      "source": [
        "# TODO not implemented\n",
        "# label_shape = P300_data_c.shape[-1]\n",
        "# P300_label = np.zeros(label_shape, dtype=bool)\n",
        "# rand_pos = np.random.randint(0, len(P300_label), P300_label.shape)\n",
        "# P300_label[rand_pos] = True\n",
        "# print(P300_label)\n",
        "if dset_choice == 'fakedata':\n",
        "  P300_label = labels\n",
        "else:\n",
        "  P300_label = labels.T\n",
        "c, _, e = P300_data_c.shape\n",
        "if e > c:\n",
        "  P300_data_c = np.swapaxes(P300_data_c, 0, -1)\n",
        "print(P300_data_c.shape)\n",
        "print(P300_label.shape)\n",
        "\n",
        "from sklearn.model_selection import train_test_split\n",
        "P300_data_c_train, P300_data_c_test, P300_label_c_train, P300_label_c_test = train_test_split(P300_data_c, P300_label, test_size=0.2, random_state=123)\n",
        "\n",
        "print(P300_data_c_train.shape)\n",
        "print(P300_data_c_test.shape)\n",
        "print(P300_label_c_train.shape)\n",
        "print(P300_label_c_test.shape)"
      ]
    },
    {
      "cell_type": "code",
      "execution_count": null,
      "metadata": {
        "id": "6ir9tcuhQmE-"
      },
      "outputs": [],
      "source": [
        "def noise_augment_channel(data, scale=0.5, axis=-1):\n",
        "  for c in range(data.shape[axis]):\n",
        "    ch = data[:,c]\n",
        "    mu = ch.mean()\n",
        "    sd = ch.std()\n",
        "    data[:,c] = ch + np.random.normal(scale*mu, scale=scale*sd, size=ch.shape)\n",
        "  return data\n",
        "\n",
        "def noise_augment_bulk(data, scale=0.5, axis=-1):\n",
        "  mu = data.mean()\n",
        "  sd = data.std()\n",
        "  data = data + scale*np.random.normal(mu, scale=sd, size=data.shape[0]).reshape(-1,1)\n",
        "  return data\n",
        "\n",
        "def bias_augment(data, scale=0.5, axis=-1):\n",
        "    bias_range = scale*(data.max() - data.min())\n",
        "    aug = np.random.random(data.shape[axis])*bias_range\n",
        "    print(aug.shape)\n",
        "    return data+aug"
      ]
    },
    {
      "cell_type": "code",
      "execution_count": null,
      "metadata": {
        "id": "2dW4latiVsT9"
      },
      "outputs": [],
      "source": [
        "# Separate positive examples\n",
        "nbins = len(P300_label_c_train)\n",
        "inds = np.arange(nbins)\n",
        "pos_inds = inds[P300_label_c_train.astype(bool).flatten()]\n",
        "data_in = P300_data_c_train[pos_inds]\n",
        "lbl_in = P300_label_c_train[pos_inds]\n",
        "diff = nbins - len(pos_inds)\n",
        "print(diff)"
      ]
    },
    {
      "cell_type": "code",
      "execution_count": null,
      "metadata": {
        "id": "ivIOl79khCHW"
      },
      "outputs": [],
      "source": [
        "test = noise_augment_bulk(data_in[0].copy())\n",
        "plt.plot(data_in[0,:,0])\n",
        "plt.plot(test[:,0])"
      ]
    },
    {
      "cell_type": "code",
      "execution_count": null,
      "metadata": {
        "id": "hdYVyoCLS79N"
      },
      "outputs": [],
      "source": [
        "# data_in = P300_data_c_train[0, :, c].reshape(-1,1)\n",
        "aug_data = []\n",
        "for n in range(diff):\n",
        "  select_ind = np.random.randint(len(pos_inds))\n",
        "  select_data = data_in[select_ind].copy()\n",
        "  data_gauss = noise_augment_bulk(select_data)\n",
        "  aug_data.append(data_gauss)\n",
        "\n",
        "aug_data = np.array(aug_data)\n",
        "print(aug_data.shape)"
      ]
    },
    {
      "cell_type": "code",
      "execution_count": null,
      "metadata": {
        "id": "WHs-k61XXMuJ"
      },
      "outputs": [],
      "source": [
        "nfig = 3\n",
        "c = 0\n",
        "for i in range(nfig):\n",
        "  plt.subplot(nfig,1,i+1)\n",
        "  plt.plot(data_in[i, :, c])\n",
        "  plt.plot(aug_data[i, :, c])"
      ]
    },
    {
      "cell_type": "code",
      "execution_count": null,
      "metadata": {
        "id": "BbDp4P7MaP9S"
      },
      "outputs": [],
      "source": [
        "new_lbls = np.ones((len(aug_data), 1))\n",
        "x_aug_dset = np.concatenate((P300_data_c_train, aug_data), axis=0)\n",
        "y_aug_dset = np.concatenate((P300_label_c_train, new_lbls), axis=0)\n",
        "\n",
        "print(x_aug_dset.shape)\n",
        "print(y_aug_dset.shape)"
      ]
    },
    {
      "cell_type": "code",
      "execution_count": null,
      "metadata": {
        "id": "Y0KByhUAcQpI"
      },
      "outputs": [],
      "source": [
        "## NORMALIZING\n",
        "def normalize_dset(data):\n",
        "  n_channels = data.shape[0]\n",
        "  for c in range(n_channels):\n",
        "    data_to_scale = data[c]\n",
        "    scaler = MinMaxScaler()\n",
        "    data[c] = scaler.fit_transform(data_to_scale)\n",
        "  return data"
      ]
    },
    {
      "cell_type": "code",
      "execution_count": null,
      "metadata": {
        "id": "ktsq6-6hdxJ3"
      },
      "outputs": [],
      "source": [
        "P300_data_c_train = normalize_dset(x_aug_dset)\n",
        "P300_data_c_test = normalize_dset(P300_data_c_test)\n",
        "\n",
        "P300_label_c_train = y_aug_dset"
      ]
    },
    {
      "cell_type": "markdown",
      "metadata": {
        "id": "BX3fGjDCuL9u"
      },
      "source": [
        "# Neural Network"
      ]
    },
    {
      "cell_type": "markdown",
      "metadata": {
        "id": "M6GSnoZtrfAk"
      },
      "source": [
        "Initialize parameters including EEG related Metadata.\n",
        "\n",
        "\n",
        "*   **eeg_sample_count**:  Number of samples we're training our network with\n",
        "*   **learning_rate**:     How fast the network tends to change its weights\n",
        "*   **eeg_sample_length**: Number of datapoints per sample\n",
        "*   **number_of_classes**: Number of output classes (a scalar value that represents probability of input belonging to p300)\n",
        "*   **hidden1**: Number of neurons in the first hidden layer\n",
        "*   **hidden2**: Number of neurons in the second hidden layer\n",
        "*   **hidden3**: Number of neurons in the third hidden layer\n",
        "*   **output**: Number of neurons in the output layer"
      ]
    },
    {
      "cell_type": "code",
      "execution_count": null,
      "metadata": {
        "id": "PZgYCnwDrime"
      },
      "outputs": [],
      "source": [
        "# Initialize parameters\n",
        "eeg_sample_count = 240 # How many samples are we training\n",
        "epochs = 10 # number of times we loop through our training data\n",
        "learning_rate = 1e-3 # How hard the network will correct its mistakes while learning\n",
        "# loss = 'mse' # Metric for our optimizer to minimise\n",
        "loss = keras.losses.BinaryFocalCrossentropy()\n",
        "batch_size = 32 # Number of samples in our batch\n",
        "eeg_sample_length = 226 # Number of eeg data points per sample\n",
        "number_of_classes = 1 # We want to answer the \"is this a P300?\" question\n",
        "hidden1 = 500 # Number of neurons in our first hidden layer\n",
        "hidden2 = 1000 # Number of neurons in our second hidden layer\n",
        "hidden3 = 100 # Number of neurons in our third hidden layer\n",
        "penultimate = 10 # Number of neurons in our output layer\n",
        "metrics = ['binary_accuracy'] # Metrics for us to monitor during training and tuning"
      ]
    },
    {
      "cell_type": "markdown",
      "metadata": {
        "id": "J1uNnjuBOH_h"
      },
      "source": [
        "We use our hyperparameters to define our neural network model."
      ]
    },
    {
      "cell_type": "code",
      "execution_count": null,
      "metadata": {
        "id": "Rli0wVvtOHQM"
      },
      "outputs": [],
      "source": [
        "## Define the network\n",
        "P300_model = keras.Sequential()\n",
        "\n",
        "# Input Layer (Size 226 -> 500)\n",
        "P300_model.add(layers.Dense(hidden1, activation=\"relu\", name=\"Input_Layer\"))\n",
        "\n",
        "# Hidden Layer (Size 500 -> 1000)\n",
        "P300_model.add(layers.Dense(hidden2, activation=\"relu\", name=\"Hidden_Layer1\"))\n",
        "\n",
        "# Hidden Layer (Size 1000 -> 100)\n",
        "P300_model.add(layers.Dense(hidden3, activation=\"relu\", name=\"Hidden_Layer2\"))\n",
        "\n",
        "# Hidden Layer (Size 100 -> 10)\n",
        "P300_model.add(layers.Dense(penultimate, activation=\"relu\", name=\"Hidden_Layer3\"))\n",
        "\n",
        "# Handle multi-channel inputs\n",
        "P300_model.add(layers.Flatten())\n",
        "\n",
        "# Output Layer (Size 10 -> 1)\n",
        "P300_model.add(layers.Dense(number_of_classes, activation=\"sigmoid\", name=\"Output_Layer\"))\n",
        "\n",
        "# Define a learning function, needs to be reinitialized every load\n",
        "optimizer = keras.optimizers.Adam(0.001)\n",
        "# After the model is created, we then config the model with losses and metrics\n",
        "P300_model.compile(optimizer=optimizer,\n",
        "             loss=loss,\n",
        "             metrics=metrics)"
      ]
    },
    {
      "cell_type": "code",
      "execution_count": null,
      "metadata": {
        "id": "8T-rAwpEn89m"
      },
      "outputs": [],
      "source": [
        "list0 = [1]*5\n",
        "list1 = [2]*3\n",
        "\n",
        "for x,y in zip(list0, list1): print(x+y)\n"
      ]
    },
    {
      "cell_type": "code",
      "execution_count": null,
      "metadata": {
        "id": "23H9u_3ceIvU"
      },
      "outputs": [],
      "source": [
        "print(len(P300_data_c_train))\n",
        "print(len(P300_label_c_train))\n",
        "nbatches = len(P300_data_c_train)//batch_size\n",
        "\n",
        "x_ds = tf.data.Dataset.from_tensor_slices(P300_data_c_train)\n",
        "y_ds = tf.data.Dataset.from_tensor_slices(P300_label_c_train)\n",
        "\n",
        "ds = tf.data.Dataset.zip((x_ds, y_ds))\\\n",
        "  .batch(batch_size)\\\n",
        "  .shuffle(1000)\n",
        "\n",
        "train_size = int(nbatches*0.7)\n",
        "train_ds = ds.take(train_size)\n",
        "val_ds = ds.skip(train_size)\n",
        "\n",
        "for x,y in ds.take(1).as_numpy_iterator(): print(x.shape)\n",
        "print(train_ds.cardinality())\n",
        "print(val_ds.cardinality())"
      ]
    },
    {
      "cell_type": "markdown",
      "metadata": {
        "id": "CJ4zMnYJOpkl"
      },
      "source": [
        "Now that we have our model defined, we can train and test on our dataset."
      ]
    },
    {
      "cell_type": "code",
      "execution_count": null,
      "metadata": {
        "id": "lijhJnEWO0Sf"
      },
      "outputs": [],
      "source": [
        "# Make sure we're starting from untrained every time\n",
        "#tutorial_model = keras.models.load_model('/home/tutorial_model_default_state')\n",
        "#tf.compat.v1.initializers.global_variables()\n",
        "mse_list = P300_model.fit(ds, epochs=epochs, verbose=1)\n",
        "\n",
        "# Define a learning function, needs to be reinitialized every load\n",
        "# optimizer = torch.optim.Adam(tutorial_model.parameters(), lr = learning_rate)\n",
        "\n",
        "# Use our training procedure with the sample data\n",
        "print(\"Below is the loss graph for dataset training session\")\n",
        "loss_data = mse_list.history['loss']\n",
        "# Plot a nice loss graph at the end of training\n",
        "rcParams['figure.figsize'] = 10, 5\n",
        "plt.title(\"Loss vs Iterations\")\n",
        "plt.plot(list(range(0, len(loss_data))), loss_data)\n",
        "plt.show()"
      ]
    },
    {
      "cell_type": "markdown",
      "metadata": {
        "id": "Om7B513hPHV0"
      },
      "source": [
        "## Classification Performance"
      ]
    },
    {
      "cell_type": "code",
      "execution_count": null,
      "metadata": {
        "id": "8iEza5qZPLOO"
      },
      "outputs": [],
      "source": [
        "# Classify our positive test dataset and print the results\n",
        "classification_test = np.round(P300_model.predict(P300_data_c_test))\n",
        "print(\"classification max: \", classification_test.max())\n",
        "print(classification_test.shape)\n",
        "from sklearn.metrics import classification_report\n",
        "print(classification_report(P300_label_c_test, classification_test))"
      ]
    },
    {
      "cell_type": "markdown",
      "metadata": {
        "id": "2t7dk9VdPYPR"
      },
      "source": [
        "# Review\n",
        "How did your model do? How did your model do with you data after signal processing? What hyperparameters significantly affected the performance?"
      ]
    }
  ],
  "metadata": {
    "colab": {
      "provenance": []
    },
    "kernelspec": {
      "display_name": "Python 3",
      "name": "python3"
    },
    "language_info": {
      "name": "python"
    }
  },
  "nbformat": 4,
  "nbformat_minor": 0
}